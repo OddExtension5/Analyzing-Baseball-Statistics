{
 "cells": [
  {
   "cell_type": "markdown",
   "metadata": {},
   "source": [
    "# Logistic Regression"
   ]
  },
  {
   "cell_type": "markdown",
   "metadata": {},
   "source": [
    "In the previous notebook, I used linear regression to express our response variable as a linear function of the explanatory variable. For the case where the response variable is categorical, logistic regression provides a more natural modeling framework.\n",
    "\n",
    "I will specifically focus on the case of a binary-valued (e.g., 0 or 1) respose variable. In logistic regression, instead of expressing the response variable directly as a function of the explanatory variable, we express the probability of the response variable being equal to 1 (or 0) as a function of the explanatory variable. Specifically, the mapping is obtained by applying the standard logistic function to linear combination of the explanatory variable.\n",
    "\n",
    "The relationship is mathematically expressed as:\n",
    "    <img src=\"https://encrypted-tbn0.gstatic.com/images?q=tbn%3AANd9GcTf6VGZZuqNXlLYgnirHDnZjC8Ha49Or5bUUd8VAIISVhVy-VIF\"\n",
    "     alt=\"Markdown Monster icon\"\n",
    "     style=\"float: left; margin-right: 50px;\" />\n",
    "     \n",
    "     where y = (aX + b)\n",
    "     \n",
    "Since the range of the logistic function is [0,1], the result of the mapping can be interpreted as a probability."
   ]
  },
  {
   "cell_type": "markdown",
   "metadata": {},
   "source": [
    "# Training Set & Model Construction"
   ]
  },
  {
   "cell_type": "markdown",
   "metadata": {},
   "source": [
    "Similar to the linear regression case, we will use Retrosheet game logs from five MLB seasons (2011-2015) to construct our training set. The explanatory variable in this case, number of hits by home team, is readily available in the raw data, so no additional processing for feature extraction is required."
   ]
  }
 ],
 "metadata": {
  "kernelspec": {
   "display_name": "Python 3",
   "language": "python",
   "name": "python3"
  },
  "language_info": {
   "codemirror_mode": {
    "name": "ipython",
    "version": 3
   },
   "file_extension": ".py",
   "mimetype": "text/x-python",
   "name": "python",
   "nbconvert_exporter": "python",
   "pygments_lexer": "ipython3",
   "version": "3.7.1"
  }
 },
 "nbformat": 4,
 "nbformat_minor": 2
}
