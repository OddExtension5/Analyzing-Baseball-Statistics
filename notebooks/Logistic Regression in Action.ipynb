{
 "cells": [
  {
   "cell_type": "markdown",
   "metadata": {},
   "source": [
    "# Logistic Regression"
   ]
  },
  {
   "cell_type": "markdown",
   "metadata": {},
   "source": [
    "In the previous notebook, I used linear regression to express our response variable as a linear function of the explanatory variable. For the case where the response variable is categorical, logistic regression provides a more natural modeling framework.\n",
    "\n",
    "I will specifically focus on the case of a binary-valued (e.g., 0 or 1) respose variable. In logistic regression, instead of expressing the response variable directly as a function of the explanatory variable, we express the probability of the response variable being equal to 1 (or 0) as a function of the explanatory variable. Specifically, the mapping is obtained by applying the standard logistic function to linear combination of the explanatory variable.\n",
    "\n",
    "The relationship is mathematically expressed as:\n",
    "    <img src=\"https://encrypted-tbn0.gstatic.com/images?q=tbn%3AANd9GcTf6VGZZuqNXlLYgnirHDnZjC8Ha49Or5bUUd8VAIISVhVy-VIF\"\n",
    "     alt=\"Markdown Monster icon\"\n",
    "     style=\"float: left; margin-right: 50px;\" />\n",
    "     \n",
    "     where y = (aX + b)\n",
    "     \n",
    "Since the range of the logistic function is [0,1], the result of the mapping can be interpreted as a probability."
   ]
  },
  {
   "cell_type": "code",
   "execution_count": null,
   "metadata": {},
   "outputs": [],
   "source": [
    "# Importing libraries\n",
    "\n",
    "import numpy as np\n",
    "import pandas as pd\n",
    "from scipy import linear_model\n",
    "f"
   ]
  },
  {
   "cell_type": "markdown",
   "metadata": {},
   "source": [
    "# Training Set & Model Construction"
   ]
  },
  {
   "cell_type": "markdown",
   "metadata": {},
   "source": [
    "Similar to the linear regression case, we will use Retrosheet game logs from five MLB seasons (2011-2015) to construct our training set. The explanatory variable in this case, number of hits by home team, is readily available in the raw data, so no additional processing for feature extraction is required.\n",
    "We will construct a Boolean-valued column to indicate whether the home team won the game (1/True) or not (0/False), just like we did in the linear regression example."
   ]
  },
  {
   "cell_type": "code",
   "execution_count": null,
   "metadata": {},
   "outputs": [],
   "source": [
    "# Get training data from 2011-2015 to train the logistic regression model\n",
    "\n",
    "# Initialize arrays to hold training data\n",
    "train_num_hits = np.empty([0,1])\n",
    "train_win_label = np.empty([0,1])\n",
    "\n",
    "# Loop\n",
    "for year in range(2011,2016):\n",
    "    # Construct log file name\n",
    "    file = \"GL\" + str(year) + \".TXT\"\n",
    "    log_file = \"./data/train/\" + file\n",
    "    \n",
    "    # Read log into a dataframe\n",
    "    df = pd.read_table(log_file, sep=\",\", header=None)\n",
    "    \n",
    "    # Rename columns for readability\n",
    "    df.rename(columns = {6: 'Home Team', 9: 'Runs Visitor', 10: 'Runs Home', 50: 'Hits Home'}, inplace=True)\n",
    "    \n",
    "    # Add new columns to indicate whether home team or visiting team won the game\n",
    "    df['Home Win'] = (df['Runs Home'] > df['Runs Visitor'])\n",
    "    \n",
    "    # Add to training set\n",
    "    train_num_hits = np.vstack([train_num_hits, df['Hits Home'].values.reshape([-1,1])])\n",
    "    train_win_label = np.vstack([train_win_label, df['Home Win'].values.reshape([-1,1])])"
   ]
  }
 ],
 "metadata": {
  "kernelspec": {
   "display_name": "Python 3",
   "language": "python",
   "name": "python3"
  },
  "language_info": {
   "codemirror_mode": {
    "name": "ipython",
    "version": 3
   },
   "file_extension": ".py",
   "mimetype": "text/x-python",
   "name": "python",
   "nbconvert_exporter": "python",
   "pygments_lexer": "ipython3",
   "version": "3.7.1"
  }
 },
 "nbformat": 4,
 "nbformat_minor": 2
}
