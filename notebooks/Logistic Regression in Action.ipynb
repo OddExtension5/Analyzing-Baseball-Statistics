{
 "cells": [
  {
   "cell_type": "markdown",
   "metadata": {},
   "source": [
    "# Logistic Regression"
   ]
  },
  {
   "cell_type": "markdown",
   "metadata": {},
   "source": [
    "In the previous notebook, I used linear regression to express our response variable as a linear function of the explanatory variable. For the case where the response variable is categorical, logistic regression provides a more natural modeling framework.\n",
    "\n",
    "I will specifically focus on the case of a binary-valued (e.g., 0 or 1) respose variable. In logistic regression, instead of expressing the response variable directly as a function of the explanatory variable, we express the probability of the response variable being equal to 1 (or 0) as a function of the explanatory variable. Specifically, the mapping is obtained by applying the standard logistic function to linear combination of the explanatory variable.\n",
    "\n",
    "The relationship is mathematically expressed as:\n",
    "    <img src=\"https://encrypted-tbn0.gstatic.com/images?q=tbn%3AANd9GcTf6VGZZuqNXlLYgnirHDnZjC8Ha49Or5bUUd8VAIISVhVy-VIF\"\n",
    "     alt=\"Markdown Monster icon\"\n",
    "     style=\"float: left; margin-right: 50px;\" />\n",
    "     \n",
    "     where y = (aX + b)\n",
    "     \n",
    "Since the range of the logistic function is [0,1], the result of the mapping can be interpreted as a probability."
   ]
  },
  {
   "cell_type": "code",
   "execution_count": 2,
   "metadata": {},
   "outputs": [],
   "source": [
    "# Importing libraries\n",
    "\n",
    "import numpy as np\n",
    "import pandas as pd\n",
    "from sklearn import linear_model\n",
    "from scipy import stats\n",
    "import matplotlib.pyplot as plt\n",
    "%matplotlib inline"
   ]
  },
  {
   "cell_type": "markdown",
   "metadata": {},
   "source": [
    "# Training Set & Model Construction"
   ]
  },
  {
   "cell_type": "markdown",
   "metadata": {},
   "source": [
    "Similar to the linear regression case, we will use Retrosheet game logs from five MLB seasons (2011-2015) to construct our training set. The explanatory variable in this case, number of hits by home team, is readily available in the raw data, so no additional processing for feature extraction is required.\n",
    "We will construct a Boolean-valued column to indicate whether the home team won the game (1/True) or not (0/False), just like we did in the linear regression example."
   ]
  },
  {
   "cell_type": "code",
   "execution_count": 4,
   "metadata": {},
   "outputs": [],
   "source": [
    "# Get training data from 2011-2015 to train the logistic regression model\n",
    "\n",
    "# Initialize arrays to hold training data\n",
    "train_num_hits = np.empty([0,1])\n",
    "train_win_label = np.empty([0,1])\n",
    "\n",
    "# Loop\n",
    "for year in range(2011,2016):\n",
    "    # Construct log file name\n",
    "    file = \"GL\" + str(year) + \".TXT\"\n",
    "    log_file = \"../data/train/\" + file\n",
    "    \n",
    "    # Read log into a dataframe\n",
    "    df = pd.read_table(log_file, sep=\",\", header=None)\n",
    "    \n",
    "    # Rename columns for readability\n",
    "    df.rename(columns = {6: 'Home Team', 9: 'Runs Visitor', 10: 'Runs Home', 50: 'Hits Home'}, inplace=True)\n",
    "    \n",
    "    # Add new columns to indicate whether home team or visiting team won the game\n",
    "    df['Home Win'] = (df['Runs Home'] > df['Runs Visitor'])\n",
    "    \n",
    "    # Add to training set\n",
    "    train_num_hits = np.vstack([train_num_hits, df['Hits Home'].values.reshape([-1,1])])\n",
    "    train_win_label = np.vstack([train_win_label, df['Home Win'].values.reshape([-1,1])])"
   ]
  },
  {
   "cell_type": "code",
   "execution_count": 5,
   "metadata": {},
   "outputs": [],
   "source": [
    "# Instantiate logistic regression object\n",
    "logistic_regression = linear_model.LogisticRegression()"
   ]
  },
  {
   "cell_type": "code",
   "execution_count": 6,
   "metadata": {},
   "outputs": [
    {
     "name": "stderr",
     "output_type": "stream",
     "text": [
      "c:\\users\\asus\\appdata\\local\\programs\\python\\python37-32\\lib\\site-packages\\sklearn\\linear_model\\logistic.py:433: FutureWarning: Default solver will be changed to 'lbfgs' in 0.22. Specify a solver to silence this warning.\n",
      "  FutureWarning)\n"
     ]
    },
    {
     "data": {
      "text/plain": [
       "LogisticRegression(C=1.0, class_weight=None, dual=False, fit_intercept=True,\n",
       "          intercept_scaling=1, max_iter=100, multi_class='warn',\n",
       "          n_jobs=None, penalty='l2', random_state=None, solver='warn',\n",
       "          tol=0.0001, verbose=0, warm_start=False)"
      ]
     },
     "execution_count": 6,
     "metadata": {},
     "output_type": "execute_result"
    }
   ],
   "source": [
    "# Fit model to training data\n",
    "logistic_regression.fit(train_num_hits,train_win_label.ravel())"
   ]
  },
  {
   "cell_type": "code",
   "execution_count": 16,
   "metadata": {},
   "outputs": [
    {
     "name": "stdout",
     "output_type": "stream",
     "text": [
      "Slope = 0.24059298102534357  Intercept = -1.897784836541172\n"
     ]
    }
   ],
   "source": [
    "print(\"Slope =\", float(logistic_regression.coef_), \" Intercept =\", float(logistic_regression.intercept_))"
   ]
  },
  {
   "cell_type": "code",
   "execution_count": 17,
   "metadata": {},
   "outputs": [
    {
     "name": "stdout",
     "output_type": "stream",
     "text": [
      "Percentage coreect on training set = 64.67198946415343 %\n"
     ]
    }
   ],
   "source": [
    "# Get performance score\n",
    "logistic_regression_score_train = logistic_regression.score(train_num_hits, train_win_label.ravel())\n",
    "\n",
    "print(\"Percentage coreect on training set =\", 100.*logistic_regression_score_train, \"%\")"
   ]
  },
  {
   "cell_type": "code",
   "execution_count": null,
   "metadata": {},
   "outputs": [],
   "source": []
  }
 ],
 "metadata": {
  "kernelspec": {
   "display_name": "Python 3",
   "language": "python",
   "name": "python3"
  },
  "language_info": {
   "codemirror_mode": {
    "name": "ipython",
    "version": 3
   },
   "file_extension": ".py",
   "mimetype": "text/x-python",
   "name": "python",
   "nbconvert_exporter": "python",
   "pygments_lexer": "ipython3",
   "version": "3.7.1"
  }
 },
 "nbformat": 4,
 "nbformat_minor": 2
}
